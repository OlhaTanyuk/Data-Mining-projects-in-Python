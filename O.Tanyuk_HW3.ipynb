{
 "cells": [
  {
   "cell_type": "markdown",
   "metadata": {},
   "source": [
    "## HW #3\n",
    "#### Student name: Olha Tanyuk\n",
    "\n",
    "This is a pretty simple assignment.  You will do something you do every day, but today it will be with matrix manipulations.\n",
    "\n",
    "The problem is: you and your work friends are trying to decide where to go for lunch. You have to pick a restaurant thats best for everyone.  \n",
    "Then you should decide if you should split into two groups so everyone is happier.\n",
    "\n",
    "Despite the simplicity of the process you will need to make decisions regarding how to process the data.\n",
    "\n",
    "This process was thougholy investigated in the operation research community.  This approach can prove helpful on any number of decision making problems that are currently not leveraging machine learning.\n",
    "\n",
    "You asked your 10 work friends to answer a survey. They gave you back the following dictionary object.\n",
    "\n",
    "Transform the restaurant data into a matrix(M_resturants) use the same column index.\n",
    "\n",
    "The most imporant idea in this project is the idea of a linear combination.\n",
    "\n",
    "#### 1. Informally describe what a linear combination is  and how it will relate to our resturant matrix.\n",
    "\n",
    "        A linear combination is an expression of a set of terms that is \n",
    "        constructed by multipying the terms by some constant and adding the \n",
    "        results to form a singal scalar\n",
    "        Ex:  Vector [1,2,3,4,5]  ; scalars/coefficients [a,b,c,d,e]\n",
    "        Linear_Combination = a*1 + b*2 + c*3 + d*4 + e*5\n",
    "\n",
    "\n",
    "#### 2. Choose a person and compute(using a linear combination) the top restaurant for them.  What does each entry in the resulting vector represent.\n",
    "\n",
    "#### 3. Next compute a new matrix (M_usr_x_rest  i.e. an user by restaurant) from all people.  What does the a_ij matrix represent?\n",
    "\n",
    "#### 4. Sum all columns in M_usr_x_rest to get optimal restaurant for all users. What do the entry’s represent?\n",
    "\n",
    "#### 5. Now convert each row in the M_usr_x_rest into a ranking for each user and call it M_usr_x_rest_rank.   Do the same as above to generate the optimal restaurant choice.\n",
    "\n",
    "#### 6. Why is there a difference between the two?  What problem arrives?  What does represent in the real world?\n",
    "\n",
    "#### 7. How should you preprocess your data to remove this problem.\n",
    "\n",
    "#### 8. Find user profiles that are problematic, explain why?\n",
    "\n",
    "#### 9. Think of two metrics to compute the disatistifaction with the group.\n",
    "\n",
    "#### 10. Should you split in two groups today?\n",
    "\n",
    "#### 11. Ok. Now you just found out the boss is paying for the meal. How should you adjust. Now what is best restaurant?\n",
    "\n",
    "#### 12. Tommorow you visit another team. You have the same restaurants and they told you their optimal ordering for restaurants.  Can you find their weight matrix?\n"
   ]
  },
  {
   "cell_type": "code",
   "execution_count": 2,
   "metadata": {},
   "outputs": [],
   "source": [
    "import numpy as np\n",
    "import matplotlib.pyplot as plt\n",
    "import seaborn as sns\n",
    "#%%\n",
    "#Set a seed for consistent results\n",
    "np.random.seed(seed=1)\n",
    "##Generate 10 rows of 4 random values which each sum to 1 for peoples' preferences\n",
    "#npRatings=np.array(np.random.dirichlet(np.ones(4),size=10))\n",
    "#Peoples' Preferenmces in nested dictionaries (Automate this if I have time)\n",
    "people = {'Jane': {'willingness to travel': 0.1596993,\n",
    "                  'desire for new experience':0.67131344,\n",
    "                  'cost':0.15006726,\n",
    "                  #'indian food':1,\n",
    "                  #'Mexican food':1,\n",
    "                  #'hipster points':3,\n",
    "                  'vegetarian': 0.01892,\n",
    "                  },\n",
    "          'Bob': {'willingness to travel': 0.63124581,\n",
    "                  'desire for new experience':0.20269888,\n",
    "                  'cost':0.01354308,\n",
    "                  #'indian food':1,\n",
    "                  #'Mexican food':1,\n",
    "                  #'hipster points':3,\n",
    "                  'vegetarian': 0.15251223,\n",
    "                  },\n",
    "           'Charlie': {'willingness to travel': 0.312165,\n",
    "                  'desire for new experience':0.472797,\n",
    "                  'cost':0.0874337,\n",
    "                  #'indian food':1,\n",
    "                  #'Mexican food':1,\n",
    "                  #'hipster points':3,\n",
    "                  'vegetarian': 0.127604,\n",
    "                  },\n",
    "            'Daniel': {'willingness to travel': 0.24375,\n",
    "                  'desire for new experience':0.521329,\n",
    "                  'cost':0.0568194,\n",
    "                  #'indian food':1,\n",
    "                  #'Mexican food':1,\n",
    "                  #'hipster points':3,\n",
    "                  'vegetarian': 0.178102,\n",
    "                  },\n",
    "            'Emma': {'willingness to travel': 0.467763,\n",
    "                  'desire for new experience':0.503437,\n",
    "                  'cost':0.0198863,\n",
    "                  #'indian food':1,\n",
    "                  #'Mexican food':1,\n",
    "                  #'hipster points':3,\n",
    "                  'vegetarian': 0.00891349,\n",
    "                  },\n",
    "            'Felicia': {'willingness to travel': 0.0632823,\n",
    "                  'desire for new experience':0.185856,\n",
    "                  'cost':0.0351984,\n",
    "                  #'indian food':1,\n",
    "                  #'Mexican food':1,\n",
    "                  #'hipster points':3,\n",
    "                  'vegetarian': 0.715663,\n",
    "                  },\n",
    "            'Gary': {'willingness to travel': 0.577415,\n",
    "                  'desire for new experience':0.138869,\n",
    "                  'cost':0.214609,\n",
    "                  #'indian food':1,\n",
    "                  #'Mexican food':1,\n",
    "                  #'hipster points':3,\n",
    "                  'vegetarian': 0.0691065,\n",
    "                  },\n",
    "            'Helen': {'willingness to travel': 0.265751,\n",
    "                  'desire for new experience':0.412282,\n",
    "                  'cost':0.0042287,\n",
    "                  #'indian food':1,\n",
    "                  #'Mexican food':1,\n",
    "                  #'hipster points':3,\n",
    "                  'vegetarian': 0.317738,\n",
    "                  },\n",
    "            'Igor': {'willingness to travel': 0.147972,\n",
    "                  'desire for new experience':0.269156,\n",
    "                  'cost':0.551767,\n",
    "                  #'indian food':1,\n",
    "                  #'Mexican food':1,\n",
    "                  #'hipster points':3,\n",
    "                  'vegetarian': 0.0311052,\n",
    "                  },\n",
    "            'Jimmy': {'willingness to travel': 0.446693,\n",
    "                  'desire for new experience':0.37458,\n",
    "                  'cost':0.0681147,\n",
    "                  #'indian food':1,\n",
    "                  #'Mexican food':1,\n",
    "                  #'hipster points':3,\n",
    "                  'vegetarian': 0.110612,\n",
    "                  },\n",
    "                  }"
   ]
  },
  {
   "cell_type": "code",
   "execution_count": 3,
   "metadata": {},
   "outputs": [],
   "source": [
    "#Transform the user data into a matrix(M_people).\n",
    "#Keep track of column and row ids.\n",
    "#Normalize the points for each user -- make their preferences add to 1.\n",
    "peopleKeys, peopleValues = [], []\n",
    "lastKey = 0\n",
    "for k1, v1 in people.items():\n",
    "    row = []\n",
    "    for k2, v2 in v1.items():\n",
    "        peopleKeys.append(k1+'_'+k2)\n",
    "        if k1 == lastKey:\n",
    "            row.append(v2)      \n",
    "            lastKey = k1\n",
    "        else:\n",
    "            peopleValues.append(row)\n",
    "            row.append(v2)   \n",
    "            lastKey = k1\n",
    "M_people = np.array(peopleValues)"
   ]
  },
  {
   "cell_type": "code",
   "execution_count": 6,
   "metadata": {},
   "outputs": [
    {
     "data": {
      "text/plain": [
       "array([1.        , 1.        , 0.9999997 , 1.0000004 , 0.99999979,\n",
       "       0.9999997 , 0.9999995 , 0.9999997 , 1.0000002 , 0.9999997 ])"
      ]
     },
     "execution_count": 6,
     "metadata": {},
     "output_type": "execute_result"
    }
   ],
   "source": [
    "#Verify the sums = 1\n",
    "np.sum(M_people, axis=1)"
   ]
  },
  {
   "cell_type": "code",
   "execution_count": 7,
   "metadata": {},
   "outputs": [
    {
     "data": {
      "text/plain": [
       "(10, 4)"
      ]
     },
     "execution_count": 7,
     "metadata": {},
     "output_type": "execute_result"
    }
   ],
   "source": [
    "# Transform the restaurant data into a matrix(M_restaurants)\n",
    "# use the same column index.\n",
    "#Generate 10 rows of random values between 1 and 10\n",
    "\n",
    "names  = ['Flacos', 'Joes', 'McDonalds', 'BurgerKing', 'DannysTasteOfTexas ',\n",
    "          'RedLobster', 'TGIFridays', 'OliveGarden', 'Derpburgers', 'PHO501']\n",
    "cats = ['Distance', 'Novelty', 'Cost', 'Vegetarian']\n",
    "\n",
    "def make_restaurants_dict(names, categories):\n",
    "    restaurants = {}\n",
    "\n",
    "    for n in names:\n",
    "        npRandScores=np.random.randint(1,11,10)\n",
    "        dict_input = dict(zip(categories, npRandScores))\n",
    "        restaurants[n] = dict_input\n",
    "    \n",
    "    return restaurants\n",
    "\n",
    "restaurants = make_restaurants_dict(names, cats)\n",
    "#%%\n",
    "restaurantsKeys, restaurantsValues = [], []\n",
    "for k1, v1 in restaurants.items():\n",
    "    for k2, v2 in v1.items():\n",
    "        restaurantsKeys.append(k1+'_'+k2)\n",
    "        restaurantsValues.append(v2)\n",
    "#Noted that the shape needs to be the same shape as people matrix\n",
    "#len(restaurantsValues)\n",
    "#create np matrix and reshape to 10 by 4 in the same function\n",
    "M_restaurants = np.reshape(restaurantsValues, (10,4))\n",
    "#Verify shape\n",
    "M_restaurants.shape"
   ]
  },
  {
   "cell_type": "code",
   "execution_count": 9,
   "metadata": {},
   "outputs": [
    {
     "data": {
      "text/plain": [
       "array([[ 6,  9, 10,  6],\n",
       "       [ 3,  5,  6,  3],\n",
       "       [ 2,  8,  1,  7],\n",
       "       [ 1,  2,  9,  9],\n",
       "       [ 6,  2, 10,  4],\n",
       "       [10,  3,  1,  5],\n",
       "       [ 7, 10,  4,  8],\n",
       "       [ 9,  1,  3,  8],\n",
       "       [ 8,  8,  2,  2],\n",
       "       [ 7,  3,  6,  8]])"
      ]
     },
     "execution_count": 9,
     "metadata": {},
     "output_type": "execute_result"
    }
   ],
   "source": [
    "M_restaurants"
   ]
  },
  {
   "cell_type": "markdown",
   "metadata": {},
   "source": [
    "## 1.\n",
    "#### Informally describe what a linear combination is  and how it will relate to our resturant matrix.\n",
    "\n",
    "a linear combination is an expression constructed from a set of terms by multiplying each term by a constant and adding the results (e.g. a linear combination of x and y would be any expression of the form ax + by, where a and b are constants).\n",
    "In our case we are getting the product of each rating for each restaurant (constants) and each persons preferences.  For example Jane’s willingness to travel is 0.1596993 and Flaco’s distance is 6 (Out of 10 where 10 is most desreable) Jane’s weighted willingness to travel to flaco's is 6(0.1596993) = 0.958194.\n",
    "Her weighted willingness to travel to Joes's is 1(0.1596993) = 0.1596993. This tells us that judging only from distance Flacos is best for Jane."
   ]
  },
  {
   "cell_type": "markdown",
   "metadata": {},
   "source": [
    "## 2.\n",
    "#### Choose a person and compute(using a linear combination) the top restaurant for them.  What does each entry in the resulting vector represent."
   ]
  },
  {
   "cell_type": "code",
   "execution_count": 8,
   "metadata": {},
   "outputs": [
    {
     "data": {
      "text/plain": [
       "array([8.61420936, 4.79282866, 5.97241338, 3.02321152, 3.87717528,\n",
       "       3.85560058, 8.58265854, 2.71016892, 6.98607644, 4.18359898])"
      ]
     },
     "execution_count": 8,
     "metadata": {},
     "output_type": "execute_result"
    }
   ],
   "source": [
    "#Swap axis on M_people\n",
    "#alt_M_people = M_people\n",
    "M_people = np.swapaxes(M_people, 1, 0)\n",
    "#%%\n",
    "#Figure out mappings\n",
    "#janeTemp= M_people[:,0]\n",
    "#flacoTemp=M_restaurants[0,:]\n",
    "#arguments are 1st rows, 2nd columns\n",
    "#For Jane only Flacos:\n",
    "#janeFlacosResults=np.matmul(M_restaurants[0,:], M_people[:,0])\n",
    "#For Jane all Restaurants:\n",
    "janeAllResults=np.matmul(M_restaurants, M_people[:,0])\n",
    "feliciaAllResults=np.matmul(M_restaurants, M_people[:,5])\n",
    "janeAllResults"
   ]
  },
  {
   "cell_type": "markdown",
   "metadata": {},
   "source": [
    "At this point the result shows that the best restaurant for jane is 'Flacos' (janeAllResults[0]=8.61). We are using \n",
    "the \"Dot Product\". Each result in the janeAllResults vector is the \n",
    "(weighted importance of each of Janes preferences) * (Each restaurants rating)"
   ]
  },
  {
   "cell_type": "markdown",
   "metadata": {},
   "source": [
    "## 3.\n",
    "#### Next compute a new matrix (M_usr_x_rest  i.e. an user by restaurant) from all people.  What does the a_ij matrix represent?"
   ]
  },
  {
   "cell_type": "code",
   "execution_count": 10,
   "metadata": {},
   "outputs": [
    {
     "data": {
      "text/plain": [
       "array([[8.61420936, 6.66226896, 7.768124  , 7.791267  , 7.58985494,\n",
       "        6.6983598 , 7.27504   , 7.253759  , 9.0145372 , 7.396197  ],\n",
       "       [4.79282866, 3.446027  , 4.2078942 , 4.2131174 , 4.06653227,\n",
       "        3.4773063 , 3.9215635 , 3.8372492 , 5.1936136 , 3.9535032 ],\n",
       "       [5.97241338, 3.96521135, 5.3873677 , 5.9616654 , 5.04530273,\n",
       "        6.658252  , 2.9641365 , 6.0581527 , 3.2186954 , 4.7324247 ],\n",
       "       [3.02321152, 2.53114136, 3.1930983 , 3.4007006 , 1.73383511,\n",
       "        7.1927469 , 3.4085925 , 3.9880153 , 5.9321338 , 2.8043933 ],\n",
       "       [3.87717528, 4.93835234, 4.203337  , 3.78576   , 4.04796896,\n",
       "        3.9660418 , 6.164744  , 3.732309  , 7.0682348 , 4.552913  ],\n",
       "       [3.85560058, 7.69665897, 5.2654947 , 4.9488164 , 6.25239475,\n",
       "        4.8039044 , 6.7508985 , 5.4872747 , 2.994481  , 6.2118447 ],\n",
       "       [8.58265854, 7.71997963, 8.2836918 , 8.5716336 , 8.45956412,\n",
       "        8.1676337 , 6.841883  , 8.5418958 , 6.1832736 , 8.0300058 ],\n",
       "       [2.71016892, 7.14463825, 4.5654151 , 4.3103532 , 4.84427082,\n",
       "        6.5862959 , 6.532283  , 5.3586311 , 3.5050466 , 5.4840571 ],\n",
       "       [6.98607644, 7.00366814, 6.7097714 , 6.5904748 , 7.82719958,\n",
       "        3.4948292 , 6.297703  , 6.0681974 , 4.5027684 , 6.9276374 ],\n",
       "       [4.18359898, 6.32817363, 5.1489802 , 5.0359694 , 4.97527772,\n",
       "        6.9370385 , 6.299018  , 5.6643792 , 5.4027156 , 5.5441752 ]])"
      ]
     },
     "execution_count": 10,
     "metadata": {},
     "output_type": "execute_result"
    }
   ],
   "source": [
    "M_usr_x_rest=np.matmul(M_restaurants, M_people)\n",
    "M_usr_x_rest"
   ]
  },
  {
   "cell_type": "markdown",
   "metadata": {},
   "source": [
    "This matrix represents each persons weighted preferences for each category (all persons are balanced since all must sum to 1) multiplied by the rating of each category in each restaurant. We can rank the restaurants for each person and use the results to determine which will be the consensus favorite choice for the whole group of 10. We are using the \"Dot Product\" when multiplying these matrices."
   ]
  },
  {
   "cell_type": "markdown",
   "metadata": {},
   "source": [
    "## 4.\n",
    "#### Sum all columns in M_usr_x_rest to get optimal restaurant for all users. What do the entry’s represent?"
   ]
  },
  {
   "cell_type": "code",
   "execution_count": 11,
   "metadata": {},
   "outputs": [
    {
     "data": {
      "text/plain": [
       "array([76.06361726, 41.10963533, 49.96362186, 37.20786869, 46.33683618,\n",
       "       54.2673687 , 79.38221959, 51.04115999, 62.40832576, 55.51932643])"
      ]
     },
     "execution_count": 11,
     "metadata": {},
     "output_type": "execute_result"
    }
   ],
   "source": [
    "groupFavorites=np.sum(M_usr_x_rest, axis=1)\n",
    "groupFavorites"
   ]
  },
  {
   "cell_type": "markdown",
   "metadata": {},
   "source": [
    "groupFavorites represents the sum of each restaurants weigted score from each person. The result shows that the best restaurant \n",
    "considering all 10 peoples preferences versus the restaurants 1-10 rating is groupFavorites[6] TGIFridays.\n",
    "We are using the \"Dot Product\" when multiplying these matrices."
   ]
  },
  {
   "cell_type": "markdown",
   "metadata": {},
   "source": [
    "## 5.6.7.\n",
    "#### Now convert each row in the M_usr_x_rest into a ranking for each user and call it M_usr_x_rest_rank. Do the same as above to generate the optimal resturant choice. Why is there a difference between the two?  What problem arrives?  What does represent in the real world? How should you preprocess your data to remove this problem?"
   ]
  },
  {
   "cell_type": "code",
   "execution_count": 12,
   "metadata": {},
   "outputs": [
    {
     "data": {
      "text/plain": [
       "array([[1, 5, 7, 6, 9, 4, 2, 3, 0, 8],\n",
       "       [1, 5, 7, 6, 9, 4, 2, 3, 0, 8],\n",
       "       [6, 8, 1, 9, 4, 2, 3, 0, 7, 5],\n",
       "       [4, 1, 9, 0, 2, 3, 6, 7, 8, 5],\n",
       "       [7, 3, 0, 5, 4, 2, 9, 1, 6, 8],\n",
       "       [8, 0, 5, 3, 2, 7, 9, 4, 6, 1],\n",
       "       [8, 6, 1, 9, 5, 2, 4, 7, 3, 0],\n",
       "       [0, 8, 3, 2, 4, 7, 9, 6, 5, 1],\n",
       "       [5, 8, 7, 6, 3, 2, 9, 0, 1, 4],\n",
       "       [0, 4, 3, 2, 8, 9, 7, 6, 1, 5]], dtype=int64)"
      ]
     },
     "execution_count": 12,
     "metadata": {},
     "output_type": "execute_result"
    }
   ],
   "source": [
    "M_usr_x_rest_rank = M_usr_x_rest.argsort()\n",
    "M_usr_x_rest_rank"
   ]
  },
  {
   "cell_type": "markdown",
   "metadata": {},
   "source": [
    "When we convert from scores to rank we are losing the relative importance of things. For example: Felicia REALLY doesn't want to eat meat and it is probably a disqualifying factor for her. If we rank the importance of her preferences vegeterian appears as the most important #1(of4) to her as expected. However she actually indicated this is 71.5 % weight of her preference therfore we are losing some precision. If she gave vegeterian .28 and all others .24 it would still rank #1 but we wouldnt know that it isn't all that important. I would prefer to use the calculated values rather than ranks until we have final scores for the restaurants. The argsort function is a bit confusing. It sorts and ranks in ascending order and indicates the index location rather than the actual values. The finalRestRank matrix created below indicates that the highest ranking choice is\n",
    "in index 6 location (TGI Fridays)."
   ]
  },
  {
   "cell_type": "code",
   "execution_count": 13,
   "metadata": {},
   "outputs": [
    {
     "data": {
      "text/plain": [
       "array([3, 1, 4, 2, 7, 5, 9, 8, 0, 6], dtype=int64)"
      ]
     },
     "execution_count": 13,
     "metadata": {},
     "output_type": "execute_result"
    }
   ],
   "source": [
    "finalRestRank=groupFavorites.argsort()\n",
    "finalRestRank"
   ]
  },
  {
   "cell_type": "markdown",
   "metadata": {},
   "source": [
    "## 8.\n",
    "#### Find  user profiles that are problematic, explain why?"
   ]
  },
  {
   "cell_type": "code",
   "execution_count": 14,
   "metadata": {},
   "outputs": [
    {
     "data": {
      "image/png": "[encoded data removed]",
      "text/plain": [
       "<Figure size 864x720 with 2 Axes>"
      ]
     },
     "metadata": {
      "needs_background": "light"
     },
     "output_type": "display_data"
    }
   ],
   "source": [
    "import pandas as pd\n",
    "derp= pd.DataFrame(data=M_usr_x_rest)\n",
    "\n",
    "\n",
    "derp.columns= ['Jane','Bob','Charlie','Daniel','Emma','Felicia','Gary',\n",
    "               'Helen','Igor','Jimmy',]\n",
    "derp.rename(index={0:'Flacos',1:'Joes',2:'McDonalds',3:'BurgerKing',\n",
    "                   4:'DannysTasteofTexas',5:'Redlobster',6:'TGIFridays',\n",
    "                   7:'OliveGarden',8:'Derpburgers',9:'PHO501'}, inplace=True)\n",
    "\n",
    "plot_dims = (12,10)\n",
    "fig, ax = plt.subplots(figsize=plot_dims)\n",
    "sns.heatmap(ax=ax, data=derp, annot=True)\n",
    "plt.show()"
   ]
  },
  {
   "cell_type": "markdown",
   "metadata": {},
   "source": [
    "I am looking for outliers to see if anyone has unusual preferences. The heatmap indicates that Gary and Igor score TGI Fridays (the group's top choice) with 6.8 and 6.2 which is possibly insignificant but relatively lower than everyone else. They might not be too happy about going to TGIFridays. I also see that Bob and Felicia aren't too happy with Flacos (the group's\n",
    "second choice)"
   ]
  },
  {
   "cell_type": "markdown",
   "metadata": {},
   "source": [
    "## 9.10.\n",
    "#### Think of two metrics to compute the disatistifaction with the group. Should you split in two groups today?"
   ]
  },
  {
   "cell_type": "code",
   "execution_count": 20,
   "metadata": {},
   "outputs": [
    {
     "name": "stdout",
     "output_type": "stream",
     "text": [
      "[0.50008779 0.27011315 0.22979905]\n"
     ]
    },
    {
     "data": {
      "image/png": "[encoded data removed]",
      "text/plain": [
       "<Figure size 432x288 with 1 Axes>"
      ]
     },
     "metadata": {
      "needs_background": "light"
     },
     "output_type": "display_data"
    }
   ],
   "source": [
    "from sklearn.decomposition import PCA\n",
    "pca = PCA(n_components=3)  \n",
    "peopleMatrixPcaTransform = pca.fit_transform(M_people)\n",
    "print(pca.explained_variance_ratio_)\n",
    "#Theres no need to scale for PCA since we are already on a common scale.  I avoid Pandas for processing but for \n",
    "#displaying results I will use it.\n",
    "#Generate Coords for a graph based on the loading scores and scaled data\n",
    "per_var = np.round(pca.explained_variance_ratio_*100, decimals=1)\n",
    "#Create labels\n",
    "labels = ['PC' + str(x) for x in range(1, len(per_var)+1)]\n",
    "#Create matplotlib bar (scree) plot\n",
    "#Noted that a 4th compoinent doesnt explain a significant amount of the \n",
    "#variance so I reduced to 3 components\n",
    "plt.bar(x=range(1,len(per_var)+1), height=per_var, tick_label=labels)\n",
    "plt.ylabel('Percentage of Explained Variance')\n",
    "plt.xlabel('Principal Component')\n",
    "plt.title('PC Plot')\n",
    "plt.show()"
   ]
  },
  {
   "cell_type": "markdown",
   "metadata": {},
   "source": [
    "Almost 100% of the variance is explained by the first 3 components."
   ]
  },
  {
   "cell_type": "code",
   "execution_count": 19,
   "metadata": {},
   "outputs": [
    {
     "data": {
      "image/png": "[encoded data removed]",
      "text/plain": [
       "<Figure size 864x720 with 2 Axes>"
      ]
     },
     "metadata": {
      "needs_background": "light"
     },
     "output_type": "display_data"
    }
   ],
   "source": [
    "#Find out who the people with unusual preferences are\n",
    "uniqueNeeds = pca.components_\n",
    "pduniqueNeeds= pd.DataFrame(data=uniqueNeeds)\n",
    "pduniqueNeeds.columns= ['Jane','Bob','Charlie','Daniel','Emma','Felicia','Gary',\n",
    "               'Helen','Igor','Jimmy',]\n",
    "plot_dims = (12,10)\n",
    "fig, ax = plt.subplots(figsize=plot_dims)\n",
    "sns.heatmap(ax=ax, data=pduniqueNeeds, annot=True)\n",
    "plt.show()"
   ]
  },
  {
   "cell_type": "markdown",
   "metadata": {},
   "source": [
    "We can see in PC1 that Felicia's and Igor's preferences are quite different than the others and causing variance. In PC2 Felicia's, Gary's and Igor's preferences are the culprits. PC0: Emma and Felicia are causing variance. PC2: Jane vs Bob and Gary. However the highest rank restaurant TGI Fridayu's does seem to please all them. \n",
    "Assuming we prefer to socialize I would not split the group."
   ]
  },
  {
   "cell_type": "markdown",
   "metadata": {},
   "source": [
    "## 11.\n",
    "#### Ok. Now you just found out the boss is paying for the meal. How should you adjust. Now what is best restaurant?"
   ]
  },
  {
   "cell_type": "markdown",
   "metadata": {},
   "source": [
    "In this case we need to increase \"cost\" preference for each employee. And in that case the group will choose the most expensive restaurant \"Flacos\"."
   ]
  },
  {
   "cell_type": "markdown",
   "metadata": {},
   "source": [
    "## 12.\n",
    "#### Tommorow you visit another team. You have the same restaurants and they told you their optimal ordering for restaurants.  Can you find their weight matrix?\n",
    "\n",
    "No, we can not. When the values are ranked the precision is lost."
   ]
  }
 ],
 "metadata": {
  "kernelspec": {
   "display_name": "Python 3",
   "language": "python",
   "name": "python3"
  },
  "language_info": {
   "codemirror_mode": {
    "name": "ipython",
    "version": 3
   },
   "file_extension": ".py",
   "mimetype": "text/x-python",
   "name": "python",
   "nbconvert_exporter": "python",
   "pygments_lexer": "ipython3",
   "version": "3.7.3"
  }
 },
 "nbformat": 4,
 "nbformat_minor": 2
}
